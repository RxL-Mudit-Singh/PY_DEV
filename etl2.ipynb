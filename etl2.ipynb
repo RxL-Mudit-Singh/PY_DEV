{
 "cells": [
  {
   "cell_type": "code",
   "execution_count": null,
   "metadata": {},
   "outputs": [],
   "source": [
    "%%time\n",
    "# ? insert stat dump\n",
    "import json\n",
    "import cx_Oracle as cx\n",
    "cnxn_pool = cx.SessionPool('PVD_MART_30AUG','rxlogix','10.100.22.99:1521/PVSDEVDB',min=10,max=15,encoding='UTF-8')\n",
    "def push_data():\n",
    "    cnxn = cnxn_pool.acquire()\n",
    "    cursor = cnxn.cursor()\n",
    "    cursor.execute(\"ALTER SESSION SET NLS_DATE_FORMAT = 'DD/MM/YYYY hh24:mi:ss'\")\n",
    "    print(\"\"\"INCURSION :)(: STARTED\"\"\")\n",
    "    counter = 1\n",
    "    with open('read.json','r') as insert_stat:\n",
    "        string = insert_stat.read()\n",
    "        X = json.loads(string)\n",
    "        failed_insert = {}\n",
    "        for key,val  in X.items(): \n",
    "            for insert in val:\n",
    "                try:\n",
    "                    # print(insert)\n",
    "                    cursor.execute(insert)\n",
    "                    cnxn.commit()\n",
    "                except Exception as e:\n",
    "                    print(e)\n",
    "                    failed_insert[key] = val\n",
    "                    break\n",
    "                else:\n",
    "                    print(\"Insert Done\")\n",
    "            print(counter,key)\n",
    "            counter+=1\n",
    "        if len(failed_insert) == 0:\n",
    "            cnxn.commit()\n",
    "        else:\n",
    "            cnxn.rollback()\n",
    "        # print(failed_insert)\n",
    "    print(\"data chunk inserted\")\n",
    "    cnxn_pool.release(cnxn)\n",
    "if __name__ == '__main__':\n",
    "    push_data()\n",
    "    cnxn_pool.close()"
   ]
  },
  {
   "cell_type": "code",
   "execution_count": null,
   "metadata": {},
   "outputs": [],
   "source": [
    "%%time\n",
    "# ? trunacting the table\n",
    "\n",
    "cdns = cx.makedsn('10.100.22.99','1521',service_name='PVSDEVDB')\n",
    "cnxn = cx.connect(user=r'PVD_MART_30AUG', password='rxlogix', dsn=cdns)\n",
    "c = cnxn.cursor()\n",
    "with open('read.json','r') as insert_stat:\n",
    "        string = insert_stat.read()\n",
    "        X = json.loads(string)\n",
    "        arr = []\n",
    "        for key,val  in X.items():\n",
    "            arr.append(key,)\n",
    "        # for key in arr:\n",
    "        #     print(f\"TRUNCATE TABLE {key}\")\n",
    "            c.execute(f\"TRUNCATE TABLE {key}\")\n",
    "        print(\"truncate complete\")\n",
    "cnxn.close()\n",
    "            "
   ]
  },
  {
   "cell_type": "code",
   "execution_count": null,
   "metadata": {},
   "outputs": [],
   "source": [
    "%%time\n",
    "#? o/p of select statements\n",
    "\n",
    "cdns = cx.makedsn('10.100.22.99','1521',service_name='PVSDEVDB')\n",
    "cnxn = cx.connect(user=r'PVD_MART_30AUG', password='rxlogix', dsn=cdns)\n",
    "c = cnxn.cursor()\n",
    "with open('read.json','r') as insert_stat:\n",
    "        string = insert_stat.read()\n",
    "        X = json.loads(string)\n",
    "        arr = []\n",
    "        for key,val  in X.items():\n",
    "            arr.append(key)\n",
    "        print(arr)\n",
    "        for key in arr:\n",
    "            c.execute(f\"TRUNCATE TABLE {key}\")\n",
    "            res = c.fetchall()\n",
    "            for i in res:\n",
    "                print(i)\n",
    "            print(key)\n",
    "cnxn.close()\n",
    "            \n",
    "    \n",
    "    \n"
   ]
  },
  {
   "cell_type": "code",
   "execution_count": null,
   "metadata": {},
   "outputs": [],
   "source": [
    "# ? extract data\n",
    "\n",
    "cdns = cx.makedsn('pvd-develop.cksh17mdz5oo.us-west-1.rds.amazonaws.com','1521',service_name='orcl')\n",
    "cnxn = cx.connect(user=r'STG_DLP_54_DM_1', password='rxlogix', dsn=cdns)\n",
    "table_name = ['C_ACTIONS_ADDL', 'C_AE_IDENTIFICATION', 'C_AE_IDENTIFICATION_FU', 'C_ASSESS_ADDL', 'C_CHARACTERISTICS_FU', 'C_CONTACT_LOG_ADDL', 'C_DEATH_ADDL', 'C_DEATH_CAUSE', 'C_DEV_FAC_CODE_DEV_FU', 'C_DEV_FAC_CODE_PAT_FU', 'C_DEVICE_COMPONENTS', 'C_DOCS', 'C_DOSE_REGIMENS_ADDL', 'C_DRUG_DOSAGE', 'C_DRUG_DOSAGE_FU', 'C_DRUG_IDENTIFICATION', 'C_DRUG_IDENTIFICATION_FU', 'C_DUE_DILIGENCE_FU', 'C_EVENT_ADDL', 'C_EVENT_ASSESS_ADDL', 'C_EVENT_DETAIL_ADDL', 'C_FOLLOWUP_ADDL', 'C_FOLLOWUP_DATES_FU', 'C_HOSP_ADDL', 'C_IDENTIFICATION', 'C_IDENTIFICATION_FU', 'C_LAB_DATA_ADDL', 'C_LIT_REFERENCE_AUTHOR_FU', 'C_LIT_REFERENCE_FU', 'C_LITERATURE_ADDL', 'C_MASTER_ADDL', 'C_MEDWATCH_DATA_ADDL', 'C_NARRATIVE_ADDL', 'C_NOTES_ATTACH_ADDL', 'C_PARENT_CHARACTERISTICS', 'C_PARENT_CHARACTERISTICS_FU', 'C_PARENT_INFO_ADDL', 'C_PARENT_NEONATES_ADDL', 'C_PARENT_NEONATES_FU', 'C_PARENT_PREGNANCY_ADDL', 'C_PARENT_RACE_FU', 'C_PARENT_REL_MED_CONDN', 'C_PARENT_REL_MED_CONDN_ADDL', 'C_PARENT_REL_PROD_HIST_ADDL', 'C_PARENT_REL_PROD_HISTORY', 'C_PAT_HIST_ADDL', 'C_PAT_INFO_ADDL', 'C_PAT_RACE_ADDL', 'C_PATIENT_CHARACTERISTICS', 'C_PATIENT_CHARACTERISTICS_FU', 'C_PATIENT_NEONATES_ADDL', 'C_PATIENT_NEONATES_FU', 'C_PATIENT_PREGNANCY_ADDL', 'C_PATIENT_RACE_FU', 'C_PATIENT_REL_MED_CONDN', 'C_PATIENT_REL_MED_CONDN_ADDL', 'C_PATIENT_REL_PROD_HIST_ADDL', 'C_PATIENT_REL_PROD_HISTORY', 'C_PROD_AE_AUTH_LABELNESS_FU', 'C_PROD_AE_CAUSALITY', 'C_PROD_AE_MATRIX', 'C_PROD_AE_MATRIX_FU', 'C_PROD_DEVICES_ADDL', 'C_PROD_DRUGS_ADDL', 'C_PROD_IDENTIFICATION', 'C_PROD_IDENTIFICATION_FU', 'C_PRODUCT_ADDL', 'C_PRODUCT_INDICATIONS', 'C_REFERENCES_FU', 'C_REPORTERS_ADDL', 'C_ROUTING_ADDL', 'C_SENDER_DIAGNOSIS', 'C_SOURCE', 'C_SOURCE_FU', 'C_STUDY_ADDL', 'C_STUDY_IDENTIFICATION', 'C_STUDY_IDENTIFICATION_FU', 'C_SUBSTANCE', 'C_SUMMARY_LOCAL_LANG', 'C_TASKS_FU', 'C_TEST_PROCEDURE_RESULT', 'C_WORKFLOW_FU']\n",
    "case_id = [88421045,8421701,8458381,8476974,8476979,8477010,8477013,8477028,8477030,8477034]"
   ]
  },
  {
   "cell_type": "code",
   "execution_count": null,
   "metadata": {},
   "outputs": [],
   "source": []
  }
 ],
 "metadata": {
  "kernelspec": {
   "display_name": "Python 3.9.7 ('base')",
   "language": "python",
   "name": "python3"
  },
  "language_info": {
   "codemirror_mode": {
    "name": "ipython",
    "version": 3
   },
   "file_extension": ".py",
   "mimetype": "text/x-python",
   "name": "python",
   "nbconvert_exporter": "python",
   "pygments_lexer": "ipython3",
   "version": "3.9.7"
  },
  "orig_nbformat": 4,
  "vscode": {
   "interpreter": {
    "hash": "b044e500be76e278f8af992ff09c18d106167691629593a72c8d65315c33d3bf"
   }
  }
 },
 "nbformat": 4,
 "nbformat_minor": 2
}

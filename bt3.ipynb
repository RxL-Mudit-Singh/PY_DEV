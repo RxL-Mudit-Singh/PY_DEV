{
 "cells": [
  {
   "cell_type": "code",
   "execution_count": 2,
   "metadata": {},
   "outputs": [],
   "source": [
    "from urllib import response\n",
    "from attr import Attribute\n",
    "import boto3 as bt\n",
    "import json\n",
    "import cx_Oracle as cx\n",
    "import tornado.web as tw\n",
    "import tornado.ioloop\n",
    "from tornado.escape import json_decode\n",
    "import json\n",
    "import requests\n",
    "import cx_Oracle as cx\n",
    "import pandas as pd"
   ]
  },
  {
   "cell_type": "code",
   "execution_count": 4,
   "metadata": {},
   "outputs": [
    {
     "name": "stdout",
     "output_type": "stream",
     "text": [
      "s3-bucket-notify\n"
     ]
    }
   ],
   "source": [
    "s3 = bt.resource(\"s3\")\n",
    "\n",
    "# Print out bucket names\n",
    "for bucket in s3.buckets.all():\n",
    "    print(bucket.name)\n"
   ]
  },
  {
   "cell_type": "code",
   "execution_count": null,
   "metadata": {},
   "outputs": [],
   "source": [
    "\n",
    "def create_queue():\n",
    "    sqs_client = bt.client(\"sqs\",region_name=\"ap-south-1\")\n",
    "    response = sqs_client.create_queue(\n",
    "        QueueName = \"bk_queue\",\n",
    "        Attributes={\n",
    "            \"DelaySeconds\":\"0\",\n",
    "            \"VisibilityTimeout\":\"60\",\n",
    "            \"FifoQueue\":True\n",
    "        }\n",
    "    )\n",
    "    print(response)\n",
    "    \n"
   ]
  },
  {
   "cell_type": "code",
   "execution_count": null,
   "metadata": {},
   "outputs": [],
   "source": [
    "create_queue()"
   ]
  },
  {
   "cell_type": "code",
   "execution_count": null,
   "metadata": {},
   "outputs": [],
   "source": [
    "def get_queue_url(name):\n",
    "    sqs_client = bt.client(\"sqs\",region_name=\"ap-south-1\")\n",
    "    response = sqs_client.get_queue_url(\n",
    "        QueueName = name,\n",
    "    )\n",
    "    return response[\"QueueUrl\"]\n",
    "\n",
    "\n",
    "print(get_queue_url(\"poll.fifo\"))"
   ]
  },
  {
   "cell_type": "code",
   "execution_count": null,
   "metadata": {},
   "outputs": [],
   "source": [
    "def send_message():\n",
    "    sqs_client = bt.client(\"sqs\",region_name=\"ap-south-1\")\n",
    "    message = {\"name\" : \"Mudit\" , \"age\" : 22, \"location\" : \"Noida\"}\n",
    "    response = sqs_client.send_message(\n",
    "        QueueUrl = \"https://sqs.ap-south-1.amazonaws.com/884379823401/testQueue\",\n",
    "        MessageBody = json.dumps(message)\n",
    "    )\n",
    "    # print(response)\n",
    "    \n",
    "send_message()"
   ]
  },
  {
   "cell_type": "code",
   "execution_count": 3,
   "metadata": {},
   "outputs": [
    {
     "name": "stdout",
     "output_type": "stream",
     "text": [
      "{'Messages': [{'MessageId': 'c06d3ca4-b248-495f-92df-42ba7331bd58', 'ReceiptHandle': 'AQEBcrzH0j2EYLkHsm7FRfVgO/B0kdbhtoeZtAVCfWb1uSVthgkNeE+OGW76Bughs+2shFKqTrnN8k6rOwRVHkZIpZ6afj1mnoktbimDqwbLDYdpderG8TwuGDto5qhdNilwvRJPzxP9+67gp8Ng+wYSItNgBNRut9udlCBnD/PKtPDhXkoNz4qQM10X5yFpKjmTbKxo6DnXTUB/pg7lMJYoVejS0BKrlYBCb60B9k7Na507eAQU6jE3mtO5vqQag2UTgtXYu5GcXdGMyeQPVMcDUiY3xNDfEr3qQOHAZZN0CnCG+LAQcFKrw0Qmp/dDCVVQKnI/y6asgARJlfBhyGNQzxi1NIXwzJ/1Y0Z4KIe6Ty0CH62W0mfIQYVL4uj6A6uGtgvL0ZyCi4IuF67mvsbozA==', 'MD5OfBody': '3dd9fb1cc6b7efa962d044bca1c6fd3f', 'Body': '{\"Records\":[{\"eventVersion\":\"2.1\",\"eventSource\":\"aws:s3\",\"awsRegion\":\"ap-south-1\",\"eventTime\":\"2022-08-22T09:46:58.278Z\",\"eventName\":\"ObjectCreated:Put\",\"userIdentity\":{\"principalId\":\"A28SD5F053SAJD\"},\"requestParameters\":{\"sourceIPAddress\":\"182.76.1.86\"},\"responseElements\":{\"x-amz-request-id\":\"WGRDR71H3KTHEST5\",\"x-amz-id-2\":\"9JKXvYjq7Gu8d0nkcqctwC+aA3ect2Ou22rt/NpH+aQgmKzNc66aspgOc7F8KygdReJsaWQYmeQ9blzOX87yunnqMzGNCGsh\"},\"s3\":{\"s3SchemaVersion\":\"1.0\",\"configurationId\":\"test1\",\"bucket\":{\"name\":\"s3-bucket-notify\",\"ownerIdentity\":{\"principalId\":\"A28SD5F053SAJD\"},\"arn\":\"arn:aws:s3:::s3-bucket-notify\"},\"object\":{\"key\":\"MOCK_DATA_2.csv\",\"size\":5793,\"eTag\":\"c97151ba98cd5d82d783c3b65bd5c229\",\"sequencer\":\"00630350923DCE4D35\"}}}]}'}], 'ResponseMetadata': {'RequestId': '586bb3af-eef6-5201-a500-e8d2bd2bf5b3', 'HTTPStatusCode': 200, 'HTTPHeaders': {'x-amzn-requestid': '586bb3af-eef6-5201-a500-e8d2bd2bf5b3', 'date': 'Mon, 22 Aug 2022 09:51:25 GMT', 'content-type': 'text/xml', 'content-length': '2012'}, 'RetryAttempts': 0}}\n"
     ]
    }
   ],
   "source": [
    "def recieve_message(url):\n",
    "    sqs_client = bt.client(\"sqs\",region_name=\"ap-south-1\")\n",
    "    response = sqs_client.receive_message(\n",
    "        QueueUrl = url,\n",
    "        MaxNumberOfMessages=3,\n",
    "        WaitTimeSeconds=0\n",
    "    )\n",
    "    print(response)\n",
    "    # print(f\"Number of messages recieved :{len(response.get('Messages',[]))}\")\n",
    "    # lst = []\n",
    "    # for message in response.get(\"Messages\",[]):\n",
    "    #     message_body = message[\"Body\"]\n",
    "    #     print(f\"Message body:{json.loads(message_body)}\")\n",
    "    #     print(f\"Receipt Handle:{message['ReceiptHandle']}\")\n",
    "    #     # print(message['ReceiptHandle'])\n",
    "    # # return response.get('ReceiptHandle')\n",
    "# val = recieve_message(\"https://ap-south-1.queue.amazonaws.com/884379823401/bk_queue\")\n",
    "# val2 = val[\"Messages\",[]]\n",
    "# msg  =val.get(\"Messages\",[])\n",
    "# print(msg)\n",
    "# msg_body = msg[0]\n",
    "# print(msg_body[\"Body\"])\n",
    "recieve_message(\"https://sqs.ap-south-1.amazonaws.com/884379823401/testQueue\")"
   ]
  },
  {
   "cell_type": "code",
   "execution_count": null,
   "metadata": {},
   "outputs": [],
   "source": [
    "def delete_message(reciept_handle,url):\n",
    "    sqs_client = bt.client(\"sqs\",region_name=\"ap-south-1\")\n",
    "    response = sqs_client.delete_message(\n",
    "        QueueUrl = url,\n",
    "        ReceiptHandle =  reciept_handle,\n",
    "    )\n",
    "    # print(response)\n",
    "\n",
    "if __name__==\"__main__\":\n",
    "    # \"https://ap-south-1.queue.amazonaws.com/884379823401/bk_queue\"\n",
    "    val = recieve_message()\n",
    "    msg  =val.get(\"Messages\",[])\n",
    "    receiptHandle = msg[0]\n",
    "    print(receiptHandle[\"ReceiptHandle\"])\n",
    "    delete_message(receiptHandle[\"ReceiptHandle\"],\"https://ap-south-1.queue.amazonaws.com/884379823401/bk_queue\")"
   ]
  },
  {
   "cell_type": "code",
   "execution_count": null,
   "metadata": {},
   "outputs": [],
   "source": [
    "def process_msg(QueueName)->list:\n",
    "    QueueUrl = get_queue_url(QueueName)\n",
    "    response =  recieve_message(QueueUrl)\n",
    "    lst = []\n",
    "    for message in response.get(\"Messages\",[]):\n",
    "        message_body = message[\"Body\"]\n",
    "        lst.append(message_body)\n",
    "    return lst\n",
    "    "
   ]
  },
  {
   "cell_type": "code",
   "execution_count": null,
   "metadata": {},
   "outputs": [],
   "source": [
    "msg_box = []\n",
    "msg_box = process_msg(\"bk_queue\")\n",
    "v = requests.post(\"http://127.0.0.1:8001/\",data=msg_box[0])"
   ]
  },
  {
   "cell_type": "code",
   "execution_count": null,
   "metadata": {},
   "outputs": [],
   "source": [
    "# # still to implement DLQ(dead letter queue)\n",
    "\n",
    "\n",
    "\n",
    "\n",
    "# class reqHandler(tornado.web.RequestHandler): \n",
    "#     def post(self):\n",
    "#         print(self.request.body)\n",
    "#         byte_value2 = json.loads(self.request.body) \n",
    "#         s = json.dumps(byte_value2,indent=4)\n",
    "#         cdns = cx.makedsn('10.100.22.99','1521',service_name='PVSDEVDB')\n",
    "#         cnxn = cx.connect(user=r'PVS_DB_55JULY', password='rxlogix', dsn=cdns)\n",
    "#         c = cnxn.cursor()\n",
    "#         c.execute(f\"insert into tor_test(NAME,AGE,LOCATION) values('{byte_value2['name']}','{byte_value2['age']}','{byte_value2['location']}')\")\n",
    "#         cnxn.commit()\n",
    "#         cnxn.close()  \n",
    "#     def set_default_headers(self):\n",
    "#         self.set_header('Access-Control-Allow-Methods', 'POST, GET, OPTIONS')\n",
    "#         self.set_header('Access-Control-Allow-Headers',\n",
    "#                         'Content-Type, Access-Control-Allow-Origin, Access-Control-Allow-Headers, X-Requested-By, Access-Control-Allow-Methods')"
   ]
  }
 ],
 "metadata": {
  "kernelspec": {
   "display_name": "Python 3.9.7 ('base')",
   "language": "python",
   "name": "python3"
  },
  "language_info": {
   "codemirror_mode": {
    "name": "ipython",
    "version": 3
   },
   "file_extension": ".py",
   "mimetype": "text/x-python",
   "name": "python",
   "nbconvert_exporter": "python",
   "pygments_lexer": "ipython3",
   "version": "3.9.7"
  },
  "orig_nbformat": 4,
  "vscode": {
   "interpreter": {
    "hash": "b044e500be76e278f8af992ff09c18d106167691629593a72c8d65315c33d3bf"
   }
  }
 },
 "nbformat": 4,
 "nbformat_minor": 2
}

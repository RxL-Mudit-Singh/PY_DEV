{
 "cells": [
  {
   "cell_type": "code",
   "execution_count": null,
   "id": "f96e0f8f",
   "metadata": {},
   "outputs": [],
   "source": [
    "from pyspark.sql import SparkSession as spark\n",
    "from pyspark.sql import * \n",
    "import pandas as pd"
   ]
  },
  {
   "cell_type": "code",
   "execution_count": null,
   "id": "662e930e",
   "metadata": {},
   "outputs": [],
   "source": [
    "type(pd.read_csv('dataSets/World_Wide_Unicorn_Startups.csv'))\n"
   ]
  },
  {
   "cell_type": "code",
   "execution_count": null,
   "id": "3393efd0",
   "metadata": {},
   "outputs": [],
   "source": [
    "spark = spark.builder.appName(\"Spark\").getOrCreate()"
   ]
  },
  {
   "cell_type": "code",
   "execution_count": null,
   "id": "98757576",
   "metadata": {},
   "outputs": [],
   "source": [
    "spark"
   ]
  },
  {
   "cell_type": "code",
   "execution_count": null,
   "id": "0d78ac61",
   "metadata": {},
   "outputs": [],
   "source": [
    "df_sp = spark.read.json('jsons/latestCases.json')"
   ]
  },
  {
   "cell_type": "code",
   "execution_count": null,
   "id": "e732ca14",
   "metadata": {},
   "outputs": [],
   "source": [
    "df_sp.show()"
   ]
  },
  {
   "cell_type": "code",
   "execution_count": null,
   "id": "5e4a6869",
   "metadata": {},
   "outputs": [],
   "source": [
    "df_sp_c = spark.read.csv('dataSets/World_Wide_Unicorn_Startups.csv')"
   ]
  },
  {
   "cell_type": "code",
   "execution_count": null,
   "id": "cdae6bed",
   "metadata": {},
   "outputs": [],
   "source": [
    "df_sp_c = spark.read.option('header','true').csv('dataSets/World_Wide_Unicorn_Startups.csv',inferSchema = True)\n",
    "#removes the _c01, _c02 default column naming with first row being the name of the data set"
   ]
  },
  {
   "cell_type": "code",
   "execution_count": null,
   "id": "eab5b720",
   "metadata": {},
   "outputs": [],
   "source": [
    "type(df_sp_c)"
   ]
  },
  {
   "cell_type": "code",
   "execution_count": null,
   "id": "fc4df2dd",
   "metadata": {},
   "outputs": [],
   "source": [
    "# df_sp_c.head(5)\n",
    "df_sp_c.select(['Company','Valuation','Industry','year']).show()   #print datatype to column"
   ]
  },
  {
   "cell_type": "code",
   "execution_count": null,
   "id": "57c9b32f",
   "metadata": {},
   "outputs": [],
   "source": [
    "df_sp_c.dtypes"
   ]
  },
  {
   "cell_type": "code",
   "execution_count": null,
   "id": "65ecb052",
   "metadata": {},
   "outputs": [],
   "source": [
    "datasource0 = spark.read.option(\"inferSchema\",True).json(\"C:\\DEV\\PY_DEV\\jsons\\latestCases.json\").show()"
   ]
  },
  {
   "cell_type": "code",
   "execution_count": 19,
   "id": "bc1565c4",
   "metadata": {},
   "outputs": [
    {
     "name": "stdout",
     "output_type": "stream",
     "text": [
      "|████████████████████████████████████████| 100/100 [100%] in 3.2s (31.68/s) \n",
      "<●●●●●●●●●●●●●●●●●●●●●●●●●●●●●●●●●●●●●●●●> 200/200 [100%] in 6.3s (31.79/s) \n"
     ]
    }
   ],
   "source": [
    "from alive_progress import alive_bar\n",
    "from time import sleep\n",
    "\n",
    "with alive_bar(100) as bar:   # default setting\n",
    "    for i in range(100):\n",
    "        sleep(0.03)\n",
    "        bar()                        # call after consuming one item\n",
    "\n",
    "# using bubble bar and notes spinner\n",
    "with alive_bar(200, bar = 'bubbles', spinner = 'notes2') as bar:\n",
    "    for i in range(200):\n",
    "        sleep(0.03)\n",
    "        bar()  "
   ]
  },
  {
   "cell_type": "code",
   "execution_count": 18,
   "id": "959c2eb2",
   "metadata": {},
   "outputs": [
    {
     "ename": "NameError",
     "evalue": "name 'showtime' is not defined",
     "output_type": "error",
     "traceback": [
      "\u001b[1;31m---------------------------------------------------------------------------\u001b[0m",
      "\u001b[1;31mNameError\u001b[0m                                 Traceback (most recent call last)",
      "\u001b[1;32mC:\\Users\\MUDITS~1\\AppData\\Local\\Temp/ipykernel_15272/3647304942.py\u001b[0m in \u001b[0;36m<module>\u001b[1;34m\u001b[0m\n\u001b[1;32m----> 1\u001b[1;33m \u001b[0mshowtime\u001b[0m\u001b[1;33m(\u001b[0m\u001b[1;33m)\u001b[0m\u001b[1;33m\u001b[0m\u001b[1;33m\u001b[0m\u001b[0m\n\u001b[0m",
      "\u001b[1;31mNameError\u001b[0m: name 'showtime' is not defined"
     ]
    }
   ],
   "source": []
  }
 ],
 "metadata": {
  "kernelspec": {
   "display_name": "Python 3.9.7 ('base')",
   "language": "python",
   "name": "python3"
  },
  "language_info": {
   "codemirror_mode": {
    "name": "ipython",
    "version": 3
   },
   "file_extension": ".py",
   "mimetype": "text/x-python",
   "name": "python",
   "nbconvert_exporter": "python",
   "pygments_lexer": "ipython3",
   "version": "3.9.7"
  },
  "vscode": {
   "interpreter": {
    "hash": "b044e500be76e278f8af992ff09c18d106167691629593a72c8d65315c33d3bf"
   }
  }
 },
 "nbformat": 4,
 "nbformat_minor": 5
}

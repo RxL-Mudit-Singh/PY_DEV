{
 "cells": [
  {
   "cell_type": "code",
   "execution_count": null,
   "id": "43a068ed",
   "metadata": {},
   "outputs": [],
   "source": [
    "import py4j\n",
    "import pyspark"
   ]
  },
  {
   "cell_type": "code",
   "execution_count": null,
   "id": "29c5e677",
   "metadata": {},
   "outputs": [],
   "source": [
    "spark = SparkSession.builder.appName('SparkByExamples').getOrCreate()"
   ]
  },
  {
   "cell_type": "code",
   "execution_count": null,
   "id": "f55abb85",
   "metadata": {},
   "outputs": [],
   "source": [
    "print(spark)"
   ]
  },
  {
   "cell_type": "code",
   "execution_count": null,
   "id": "b8c4a6aa",
   "metadata": {},
   "outputs": [],
   "source": [
    "rdd = spark.sparkContext.parallelize([1,2,3,4,5,6])"
   ]
  },
  {
   "cell_type": "code",
   "execution_count": null,
   "id": "83f0d6d5",
   "metadata": {},
   "outputs": [],
   "source": [
    "print(\"RDD Count\"+rdd.count())"
   ]
  },
  {
   "cell_type": "code",
   "execution_count": null,
   "id": "09962de8",
   "metadata": {},
   "outputs": [],
   "source": [
    "from pyspark.sql import SparkSession"
   ]
  },
  {
   "cell_type": "code",
   "execution_count": null,
   "id": "538c143e",
   "metadata": {},
   "outputs": [],
   "source": [
    "class myclass():\n",
    "    number: int\n",
    "c = myclass()"
   ]
  },
  {
   "cell_type": "code",
   "execution_count": null,
   "id": "11a9ab9d",
   "metadata": {},
   "outputs": [],
   "source": [
    "dir(c)"
   ]
  }
 ],
 "metadata": {
  "kernelspec": {
   "display_name": "Python 3.9.7 ('base')",
   "language": "python",
   "name": "python3"
  },
  "language_info": {
   "codemirror_mode": {
    "name": "ipython",
    "version": 3
   },
   "file_extension": ".py",
   "mimetype": "text/x-python",
   "name": "python",
   "nbconvert_exporter": "python",
   "pygments_lexer": "ipython3",
   "version": "3.9.7"
  },
  "vscode": {
   "interpreter": {
    "hash": "b044e500be76e278f8af992ff09c18d106167691629593a72c8d65315c33d3bf"
   }
  }
 },
 "nbformat": 4,
 "nbformat_minor": 5
}
